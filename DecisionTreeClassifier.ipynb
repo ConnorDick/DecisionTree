{
 "cells": [
  {
   "cell_type": "code",
   "execution_count": 1,
   "metadata": {},
   "outputs": [
    {
     "name": "stdout",
     "output_type": "stream",
     "text": [
      "<bound method NDFrame.head of       Unnamed: 0 pclass  survived                             name     sex  \\\n",
      "0              1    1st         1    Allen, Miss. Elisabeth Walton  female   \n",
      "1              2    1st         1   Allison, Master. Hudson Trevor    male   \n",
      "2              3    1st         0     Allison, Miss. Helen Loraine  female   \n",
      "3              4    1st         0  Allison, Mr. Hudson Joshua Crei    male   \n",
      "4              5    1st         0  Allison, Mrs. Hudson J C (Bessi  female   \n",
      "...          ...    ...       ...                              ...     ...   \n",
      "1304        1305    3rd         0             Zabour, Miss. Hileni  female   \n",
      "1305        1306    3rd         0            Zabour, Miss. Thamine  female   \n",
      "1306        1307    3rd         0        Zakarian, Mr. Mapriededer    male   \n",
      "1307        1308    3rd         0              Zakarian, Mr. Ortin    male   \n",
      "1308        1309    3rd         0               Zimmerman, Mr. Leo    male   \n",
      "\n",
      "          age  sibsp  parch  ticket        fare    cabin     embarked boat  \\\n",
      "0     29.0000      0      0   24160  211.337494       B5  Southampton    2   \n",
      "1      0.9167      1      2  113781  151.550003  C22 C26  Southampton   11   \n",
      "2      2.0000      1      2  113781  151.550003  C22 C26  Southampton  NaN   \n",
      "3     30.0000      1      2  113781  151.550003  C22 C26  Southampton  NaN   \n",
      "4     25.0000      1      2  113781  151.550003  C22 C26  Southampton  NaN   \n",
      "...       ...    ...    ...     ...         ...      ...          ...  ...   \n",
      "1304  14.5000      1      0    2665   14.454200      NaN    Cherbourg  NaN   \n",
      "1305      NaN      1      0    2665   14.454200      NaN    Cherbourg  NaN   \n",
      "1306  26.5000      0      0    2656    7.225000      NaN    Cherbourg  NaN   \n",
      "1307  27.0000      0      0    2670    7.225000      NaN    Cherbourg  NaN   \n",
      "1308  29.0000      0      0  315082    7.875000      NaN  Southampton  NaN   \n",
      "\n",
      "       body                        home.dest  \n",
      "0       NaN                     St Louis, MO  \n",
      "1       NaN  Montreal, PQ / Chesterville, ON  \n",
      "2       NaN  Montreal, PQ / Chesterville, ON  \n",
      "3     135.0  Montreal, PQ / Chesterville, ON  \n",
      "4       NaN  Montreal, PQ / Chesterville, ON  \n",
      "...     ...                              ...  \n",
      "1304  328.0                              NaN  \n",
      "1305    NaN                              NaN  \n",
      "1306  304.0                              NaN  \n",
      "1307    NaN                              NaN  \n",
      "1308    NaN                              NaN  \n",
      "\n",
      "[1309 rows x 15 columns]>\n"
     ]
    }
   ],
   "source": [
    "import pandas as pd\n",
    "\n",
    "df = pd.read_csv(\"./Titanic.csv\")\n",
    "print(df.head)"
   ]
  },
  {
   "cell_type": "code",
   "execution_count": 2,
   "metadata": {},
   "outputs": [
    {
     "name": "stdout",
     "output_type": "stream",
     "text": [
      "Training set size: 1047\n",
      "Test set size: 262\n"
     ]
    }
   ],
   "source": [
    "from sklearn.model_selection import train_test_split\n",
    "\n",
    "#Set value of random_state so that data split is the same every time\n",
    "train_df, test_df = train_test_split(df, test_size=0.2)\n",
    "\n",
    "print(\"Training set size:\", len(train_df))\n",
    "print(\"Test set size:\", len(test_df))"
   ]
  },
  {
   "cell_type": "code",
   "execution_count": 3,
   "metadata": {},
   "outputs": [],
   "source": [
    "class_mapping = {'1st': 1, '2nd': 2, '3rd': 3}\n",
    "df['pclass'] = df['pclass'].map(class_mapping)\n",
    "\n",
    "class_mapping = {'male': 0, 'female': 1}\n",
    "df['sex'] = df['sex'].map(class_mapping)\n",
    "\n",
    "df.dropna(subset=['age'], inplace=True)\n",
    "\n",
    "df['survived'] = df['survived'].astype('category').cat.codes"
   ]
  },
  {
   "cell_type": "code",
   "execution_count": 4,
   "metadata": {},
   "outputs": [
    {
     "name": "stdout",
     "output_type": "stream",
     "text": [
      "Training set size: 836\n",
      "Test set size: 210\n"
     ]
    }
   ],
   "source": [
    "from sklearn.preprocessing import LabelEncoder\n",
    "from sklearn.model_selection import train_test_split\n",
    "\n",
    "features = df[['pclass', 'sex', 'age', 'sibsp']]\n",
    "output = df['survived']\n",
    "\n",
    "x_train, x_test, y_train, y_test = train_test_split(features, output, test_size=0.2)\n",
    "\n",
    "print(\"Training set size:\", len(x_train))\n",
    "print(\"Test set size:\", len(x_test))"
   ]
  },
  {
   "cell_type": "code",
   "execution_count": 5,
   "metadata": {},
   "outputs": [
    {
     "name": "stdout",
     "output_type": "stream",
     "text": [
      "      pclass  sex   age  sibsp\n",
      "218        1    1  39.0      0\n",
      "650        3    1  17.0      0\n",
      "519        2    0  28.0      0\n",
      "640        3    0   9.0      4\n",
      "894        3    0   4.0      1\n",
      "...      ...  ...   ...    ...\n",
      "32         1    1  30.0      0\n",
      "1082       3    0   9.0      0\n",
      "552        2    0  19.0      0\n",
      "388        2    1  28.0      0\n",
      "1091       3    1  20.0      0\n",
      "\n",
      "[836 rows x 4 columns]\n"
     ]
    }
   ],
   "source": [
    "print(x_train)"
   ]
  },
  {
   "cell_type": "code",
   "execution_count": 6,
   "metadata": {},
   "outputs": [
    {
     "name": "stdout",
     "output_type": "stream",
     "text": [
      "218     1\n",
      "650     0\n",
      "519     0\n",
      "640     0\n",
      "894     1\n",
      "       ..\n",
      "32      1\n",
      "1082    1\n",
      "552     0\n",
      "388     1\n",
      "1091    0\n",
      "Name: survived, Length: 836, dtype: int8\n"
     ]
    }
   ],
   "source": [
    "print(y_train)"
   ]
  },
  {
   "cell_type": "code",
   "execution_count": 67,
   "metadata": {},
   "outputs": [
    {
     "data": {
      "text/html": [
       "<style>#sk-container-id-5 {color: black;background-color: white;}#sk-container-id-5 pre{padding: 0;}#sk-container-id-5 div.sk-toggleable {background-color: white;}#sk-container-id-5 label.sk-toggleable__label {cursor: pointer;display: block;width: 100%;margin-bottom: 0;padding: 0.3em;box-sizing: border-box;text-align: center;}#sk-container-id-5 label.sk-toggleable__label-arrow:before {content: \"▸\";float: left;margin-right: 0.25em;color: #696969;}#sk-container-id-5 label.sk-toggleable__label-arrow:hover:before {color: black;}#sk-container-id-5 div.sk-estimator:hover label.sk-toggleable__label-arrow:before {color: black;}#sk-container-id-5 div.sk-toggleable__content {max-height: 0;max-width: 0;overflow: hidden;text-align: left;background-color: #f0f8ff;}#sk-container-id-5 div.sk-toggleable__content pre {margin: 0.2em;color: black;border-radius: 0.25em;background-color: #f0f8ff;}#sk-container-id-5 input.sk-toggleable__control:checked~div.sk-toggleable__content {max-height: 200px;max-width: 100%;overflow: auto;}#sk-container-id-5 input.sk-toggleable__control:checked~label.sk-toggleable__label-arrow:before {content: \"▾\";}#sk-container-id-5 div.sk-estimator input.sk-toggleable__control:checked~label.sk-toggleable__label {background-color: #d4ebff;}#sk-container-id-5 div.sk-label input.sk-toggleable__control:checked~label.sk-toggleable__label {background-color: #d4ebff;}#sk-container-id-5 input.sk-hidden--visually {border: 0;clip: rect(1px 1px 1px 1px);clip: rect(1px, 1px, 1px, 1px);height: 1px;margin: -1px;overflow: hidden;padding: 0;position: absolute;width: 1px;}#sk-container-id-5 div.sk-estimator {font-family: monospace;background-color: #f0f8ff;border: 1px dotted black;border-radius: 0.25em;box-sizing: border-box;margin-bottom: 0.5em;}#sk-container-id-5 div.sk-estimator:hover {background-color: #d4ebff;}#sk-container-id-5 div.sk-parallel-item::after {content: \"\";width: 100%;border-bottom: 1px solid gray;flex-grow: 1;}#sk-container-id-5 div.sk-label:hover label.sk-toggleable__label {background-color: #d4ebff;}#sk-container-id-5 div.sk-serial::before {content: \"\";position: absolute;border-left: 1px solid gray;box-sizing: border-box;top: 0;bottom: 0;left: 50%;z-index: 0;}#sk-container-id-5 div.sk-serial {display: flex;flex-direction: column;align-items: center;background-color: white;padding-right: 0.2em;padding-left: 0.2em;position: relative;}#sk-container-id-5 div.sk-item {position: relative;z-index: 1;}#sk-container-id-5 div.sk-parallel {display: flex;align-items: stretch;justify-content: center;background-color: white;position: relative;}#sk-container-id-5 div.sk-item::before, #sk-container-id-5 div.sk-parallel-item::before {content: \"\";position: absolute;border-left: 1px solid gray;box-sizing: border-box;top: 0;bottom: 0;left: 50%;z-index: -1;}#sk-container-id-5 div.sk-parallel-item {display: flex;flex-direction: column;z-index: 1;position: relative;background-color: white;}#sk-container-id-5 div.sk-parallel-item:first-child::after {align-self: flex-end;width: 50%;}#sk-container-id-5 div.sk-parallel-item:last-child::after {align-self: flex-start;width: 50%;}#sk-container-id-5 div.sk-parallel-item:only-child::after {width: 0;}#sk-container-id-5 div.sk-dashed-wrapped {border: 1px dashed gray;margin: 0 0.4em 0.5em 0.4em;box-sizing: border-box;padding-bottom: 0.4em;background-color: white;}#sk-container-id-5 div.sk-label label {font-family: monospace;font-weight: bold;display: inline-block;line-height: 1.2em;}#sk-container-id-5 div.sk-label-container {text-align: center;}#sk-container-id-5 div.sk-container {/* jupyter's `normalize.less` sets `[hidden] { display: none; }` but bootstrap.min.css set `[hidden] { display: none !important; }` so we also need the `!important` here to be able to override the default hidden behavior on the sphinx rendered scikit-learn.org. See: https://github.com/scikit-learn/scikit-learn/issues/21755 */display: inline-block !important;position: relative;}#sk-container-id-5 div.sk-text-repr-fallback {display: none;}</style><div id=\"sk-container-id-5\" class=\"sk-top-container\"><div class=\"sk-text-repr-fallback\"><pre>DecisionTreeClassifier(max_depth=10)</pre><b>In a Jupyter environment, please rerun this cell to show the HTML representation or trust the notebook. <br />On GitHub, the HTML representation is unable to render, please try loading this page with nbviewer.org.</b></div><div class=\"sk-container\" hidden><div class=\"sk-item\"><div class=\"sk-estimator sk-toggleable\"><input class=\"sk-toggleable__control sk-hidden--visually\" id=\"sk-estimator-id-5\" type=\"checkbox\" checked><label for=\"sk-estimator-id-5\" class=\"sk-toggleable__label sk-toggleable__label-arrow\">DecisionTreeClassifier</label><div class=\"sk-toggleable__content\"><pre>DecisionTreeClassifier(max_depth=10)</pre></div></div></div></div></div>"
      ],
      "text/plain": [
       "DecisionTreeClassifier(max_depth=10)"
      ]
     },
     "execution_count": 67,
     "metadata": {},
     "output_type": "execute_result"
    }
   ],
   "source": [
    "from sklearn import tree\n",
    "from sklearn.tree import DecisionTreeClassifier\n",
    "from sklearn.tree import DecisionTreeRegressor\n",
    "\n",
    "model = DecisionTreeClassifier(max_depth=10)\n",
    "\n",
    "model.fit(x_train, y_train)"
   ]
  },
  {
   "cell_type": "code",
   "execution_count": 68,
   "metadata": {},
   "outputs": [
    {
     "data": {
      "text/plain": [
       "'Source.gv.pdf'"
      ]
     },
     "execution_count": 68,
     "metadata": {},
     "output_type": "execute_result"
    }
   ],
   "source": [
    "from sklearn.tree import export_graphviz\n",
    "import graphviz\n",
    "\n",
    "tree = export_graphviz(model, feature_names=x_train.columns, class_names=['0', '1'], impurity=False, proportion=False, node_ids=False, label='all')\n",
    "graph=graphviz.Source(tree)\n",
    "graph.render(view=True)"
   ]
  },
  {
   "cell_type": "code",
   "execution_count": 69,
   "metadata": {},
   "outputs": [],
   "source": [
    "y_train_pred = model.predict(x_train)\n",
    "y_test_pred = model.predict(x_test)"
   ]
  },
  {
   "cell_type": "code",
   "execution_count": 81,
   "metadata": {},
   "outputs": [],
   "source": [
    "def calc_survivors_fatalies(actuals, predictions, label):\n",
    "    correct_prediction = ((actuals == predictions) & (actuals == label))\n",
    "    correct = correct_prediction.sum()\n",
    "    label_prediction = (actuals == label)\n",
    "    num_predictions = label_prediction.sum()\n",
    "    percentage = correct / num_predictions\n",
    "    return percentage"
   ]
  },
  {
   "cell_type": "code",
   "execution_count": 82,
   "metadata": {},
   "outputs": [
    {
     "name": "stdout",
     "output_type": "stream",
     "text": [
      "Train fatality percent accuracy:  0.9482071713147411\n",
      "Train survived percent accuracy:  0.8023952095808383\n"
     ]
    }
   ],
   "source": [
    "train_fatality_percent = calc_survivors_fatalies(y_train, y_train_pred, 0)\n",
    "print(\"Train fatality percent accuracy: \", train_fatality_percent)\n",
    "train_survived_percent = calc_survivors_fatalies(y_train, y_train_pred, 1)\n",
    "print(\"Train survived percent accuracy: \", train_survived_percent)"
   ]
  },
  {
   "cell_type": "code",
   "execution_count": 83,
   "metadata": {},
   "outputs": [
    {
     "name": "stdout",
     "output_type": "stream",
     "text": [
      "Test fatality percent accuracy:  0.8290598290598291\n",
      "Test survived percent accuracy:  0.7096774193548387\n"
     ]
    }
   ],
   "source": [
    "test_fatality_percent = calc_survivors_fatalies(y_test, y_test_pred, 0)\n",
    "print(\"Test fatality percent accuracy: \", test_fatality_percent)\n",
    "test_survived_percent = calc_survivors_fatalies(y_test, y_test_pred, 1)\n",
    "print(\"Test survived percent accuracy: \", test_survived_percent)"
   ]
  },
  {
   "cell_type": "code",
   "execution_count": 90,
   "metadata": {},
   "outputs": [
    {
     "data": {
      "image/png": "[encoded data removed]",
      "text/plain": [
       "<Figure size 432x288 with 1 Axes>"
      ]
     },
     "metadata": {
      "needs_background": "light"
     },
     "output_type": "display_data"
    }
   ],
   "source": [
    "from sklearn.model_selection import cross_val_score\n",
    "import numpy as np\n",
    "import matplotlib.pyplot as plt\n",
    "\n",
    "tree_size = []\n",
    "num_misclassification = []\n",
    "\n",
    "max_tree = 10\n",
    "\n",
    "for size in range(2, max_tree):\n",
    "    tree_size.append(size)\n",
    "    classifier = DecisionTreeClassifier(max_leaf_nodes=size)\n",
    "    score = cross_val_score(classifier, x_train, y_train, cv=5)\n",
    "    misclassification_rate = 1 - np.mean(score)\n",
    "    num_misclassification.append(misclassification_rate)\n",
    "\n",
    "plt.plot(tree_size, num_misclassification, marker='o')\n",
    "plt.xlabel('Size')\n",
    "plt.ylabel('Percent Misclassifications')\n",
    "plt.title('Tree Size vs. Percent Misclassifications')\n",
    "plt.show()"
   ]
  },
  {
   "cell_type": "code",
   "execution_count": 91,
   "metadata": {},
   "outputs": [
    {
     "name": "stdout",
     "output_type": "stream",
     "text": [
      "Ideal tree size is:  5\n"
     ]
    }
   ],
   "source": [
    "minimum = min(num_misclassification)\n",
    "optimal_size = tree_size[num_misclassification.index(minimum)]\n",
    "print(\"Ideal tree size is: \", optimal_size)"
   ]
  },
  {
   "cell_type": "code",
   "execution_count": 92,
   "metadata": {},
   "outputs": [
    {
     "data": {
      "text/plain": [
       "'Source.gv.pdf'"
      ]
     },
     "execution_count": 92,
     "metadata": {},
     "output_type": "execute_result"
    }
   ],
   "source": [
    "model_pruned = DecisionTreeClassifier(max_depth=optimal_size)\n",
    "model_pruned.fit(x_train, y_train)\n",
    "\n",
    "tree = export_graphviz(model_pruned, feature_names=x_train.columns, class_names=['0', '1'], impurity=False, proportion=False, node_ids=False, label='all')\n",
    "graph=graphviz.Source(tree)\n",
    "graph.render(view=True)"
   ]
  },
  {
   "cell_type": "code",
   "execution_count": 87,
   "metadata": {},
   "outputs": [],
   "source": [
    "y_train_pred_pruned = model_pruned.predict(x_train)\n",
    "y_test_pred_pruned = model_pruned.predict(x_test)"
   ]
  },
  {
   "cell_type": "code",
   "execution_count": 88,
   "metadata": {},
   "outputs": [
    {
     "name": "stdout",
     "output_type": "stream",
     "text": [
      "Train fatality percent accuracy:  0.9183266932270916\n",
      "Train survived percent accuracy:  0.7275449101796407\n"
     ]
    }
   ],
   "source": [
    "train_fatality_percent = calc_survivors_fatalies(y_train, y_train_pred_pruned, 0)\n",
    "print(\"Train fatality percent accuracy: \", train_fatality_percent)\n",
    "train_survived_percent = calc_survivors_fatalies(y_train, y_train_pred_pruned, 1)\n",
    "print(\"Train survived percent accuracy: \", train_survived_percent)"
   ]
  },
  {
   "cell_type": "code",
   "execution_count": 89,
   "metadata": {},
   "outputs": [
    {
     "name": "stdout",
     "output_type": "stream",
     "text": [
      "Test fatality percent accuracy:  0.8717948717948718\n",
      "Test survived percent accuracy:  0.6881720430107527\n"
     ]
    }
   ],
   "source": [
    "test_fatality_percent = calc_survivors_fatalies(y_test, y_test_pred_pruned, 0)\n",
    "print(\"Test fatality percent accuracy: \", test_fatality_percent)\n",
    "test_survived_percent = calc_survivors_fatalies(y_test, y_test_pred_pruned, 1)\n",
    "print(\"Test survived percent accuracy: \", test_survived_percent)"
   ]
  },
  {
   "attachments": {},
   "cell_type": "markdown",
   "metadata": {},
   "source": [
    "Overall, the test fatality accuracy increased by about 8% and the test survived passenger decreased by about 1%. This denoted a small increase in performance due to pruning the tree from size of 10 to size of 5. "
   ]
  }
 ],
 "metadata": {
  "kernelspec": {
   "display_name": "base",
   "language": "python",
   "name": "python3"
  },
  "language_info": {
   "codemirror_mode": {
    "name": "ipython",
    "version": 3
   },
   "file_extension": ".py",
   "mimetype": "text/x-python",
   "name": "python",
   "nbconvert_exporter": "python",
   "pygments_lexer": "ipython3",
   "version": "3.9.4"
  },
  "orig_nbformat": 4
 },
 "nbformat": 4,
 "nbformat_minor": 2
}
